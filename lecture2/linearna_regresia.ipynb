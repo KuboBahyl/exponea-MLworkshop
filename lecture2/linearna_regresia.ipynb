{
 "cells": [
  {
   "cell_type": "markdown",
   "metadata": {},
   "source": [
    "# Linearna regresia\n",
    "\n",
    "### Generovanie dat"
   ]
  },
  {
   "cell_type": "code",
   "execution_count": 1,
   "metadata": {
    "scrolled": false
   },
   "outputs": [
    {
     "data": {
      "image/png": "[encoded data removed]",
      "text/plain": [
       "<Figure size 432x288 with 1 Axes>"
      ]
     },
     "metadata": {},
     "output_type": "display_data"
    }
   ],
   "source": [
    "import numpy as np\n",
    "import matplotlib.pyplot as plt\n",
    "% matplotlib inline\n",
    "\n",
    "n = 100 # pocet dat\n",
    "np.random.seed(123)\n",
    "x = np.random.uniform(0 ,5 , n) # n dat z rovnomerneho rozdelenia (0,5)\n",
    "x = np.sort(x) # zoradi\n",
    "y_1 = 3*x + 5 + np.random.normal(0,1,n)\n",
    "y_true_1 =  3*x + 5\n",
    "\n",
    "plt.scatter(x, y_1, c='r')\n",
    "plt.xlabel(\"x\")\n",
    "plt.ylabel(\"y\")\n",
    "plt.plot(x, y_true_1)\n",
    "plt.show()"
   ]
  },
  {
   "cell_type": "code",
   "execution_count": 2,
   "metadata": {
    "scrolled": true
   },
   "outputs": [],
   "source": [
    "# TODO pre tie iste x, vygeneruj a zobraz funkciu x^2 + 3*x + 5\n"
   ]
  },
  {
   "cell_type": "markdown",
   "metadata": {},
   "source": [
    "## Odhad koeficientov"
   ]
  },
  {
   "cell_type": "code",
   "execution_count": 4,
   "metadata": {
    "scrolled": true
   },
   "outputs": [
    {
     "name": "stdout",
     "output_type": "stream",
     "text": [
      "a_hat = 0\n",
      "b_hat = 0\n"
     ]
    }
   ],
   "source": [
    "# TODO vypocitaj LEAST SQUARES koeficienty a_hat a b_hat\n",
    "a_hat = \n",
    "b_hat = \n",
    "\n",
    "print(\"a_hat = {}\".format(a_hat))\n",
    "print(\"b_hat = {}\".format(b_hat))"
   ]
  },
  {
   "cell_type": "code",
   "execution_count": 5,
   "metadata": {},
   "outputs": [],
   "source": [
    "# TODO vyzualizuj fitovanu priamku\n",
    "\n",
    "y_pred = \n",
    "\n",
    "plt.plot(, , c ='g')\n",
    "plt.plot(, , c='b')\n",
    "plt.scatter(, , c='r')\n",
    "plt.xlabel(\"x\")\n",
    "plt.ylabel(\"y\")\n",
    "plt.legend(['predikcia','stredna_hodnota', 'pozorovania'])\n",
    "plt.show()\n"
   ]
  },
  {
   "cell_type": "code",
   "execution_count": 6,
   "metadata": {},
   "outputs": [],
   "source": [
    "# TODO graficky ukaz, ze bod x_priemer a y_priemer lezi na predikovanej priamke\n"
   ]
  },
  {
   "cell_type": "markdown",
   "metadata": {},
   "source": [
    "# Homoskedasticita"
   ]
  },
  {
   "cell_type": "code",
   "execution_count": 7,
   "metadata": {},
   "outputs": [],
   "source": [
    "# TODO ukaz, ze chyby splnaju predpoklad homoskedasticity\n",
    "\n",
    "res =  # residua\n",
    "\n",
    "plt.scatter(x, res, c='r')\n",
    "plt.plot([0,5],[0,0],c='b')\n",
    "plt.xlabel(\"x\")\n",
    "plt.ylabel(\"y\")\n",
    "plt.show()"
   ]
  },
  {
   "cell_type": "markdown",
   "metadata": {},
   "source": [
    "## Kvalita fitu"
   ]
  },
  {
   "cell_type": "code",
   "execution_count": null,
   "metadata": {},
   "outputs": [],
   "source": [
    "# TODO vypocitaj residua, RSS, TSS a R^2\n",
    "\n",
    "res =  # residua\n",
    "RSS = \n",
    "TSS = \n",
    "R2 = \n",
    "\n",
    "print(\"R^2 = {}\".format(R2))"
   ]
  },
  {
   "cell_type": "markdown",
   "metadata": {},
   "source": [
    "## Outlieri"
   ]
  },
  {
   "cell_type": "code",
   "execution_count": 9,
   "metadata": {
    "scrolled": true
   },
   "outputs": [],
   "source": [
    "x_outlier = np.append(x, 5)\n",
    "y_1_outlier = np.append(y_1, 5)\n",
    "\n",
    "# TODO graficky ukaz, ze fitovana priamka sa vyrazne zmenila\n",
    "a_hat_2 = \n",
    "b_hat_2 = \n",
    "\n",
    "y_1_outlier_pred = \n",
    "\n",
    "\n",
    "plt.plot(, , c ='g')\n",
    "plt.plot(, )\n",
    "plt.scatter(, , c='r')\n",
    "plt.xlabel(\"x\")\n",
    "plt.ylabel(\"y\")\n",
    "plt.legend(['bez_outliera','s_outlierom', 'pozorovania'])\n",
    "plt.show()\n"
   ]
  },
  {
   "cell_type": "markdown",
   "metadata": {},
   "source": [
    "# Signifikantnost"
   ]
  },
  {
   "cell_type": "code",
   "execution_count": 92,
   "metadata": {
    "scrolled": true
   },
   "outputs": [
    {
     "data": {
      "image/png": "[encoded data removed]",
      "text/plain": [
       "<Figure size 432x288 with 1 Axes>"
      ]
     },
     "metadata": {},
     "output_type": "display_data"
    },
    {
     "name": "stdout",
     "output_type": "stream",
     "text": [
      "a_hat = 2.9267402709222785\n"
     ]
    }
   ],
   "source": [
    "# TODO z obrazka urci, ci je a_hat signifikantne\n",
    "\n",
    "plt.hist(np.random.normal(0,1/(x**2).sum(),100000), bins = 30)\n",
    "plt.show()\n",
    "print(\"a_hat = {}\".format(a_hat))"
   ]
  },
  {
   "cell_type": "markdown",
   "metadata": {},
   "source": [
    "## PCA"
   ]
  },
  {
   "cell_type": "code",
   "execution_count": 107,
   "metadata": {},
   "outputs": [],
   "source": [
    "def draw_vector(v0, v1, ax=None):\n",
    "    ax = ax or plt.gca()\n",
    "    arrowprops=dict(arrowstyle='->',\n",
    "                    linewidth=2,\n",
    "                    shrinkA=0, shrinkB=0)\n",
    "    ax.annotate('', v1, v0, arrowprops=arrowprops)"
   ]
  },
  {
   "cell_type": "code",
   "execution_count": 114,
   "metadata": {},
   "outputs": [
    {
     "name": "stdout",
     "output_type": "stream",
     "text": [
      "[[-0.30505853 -0.9523336 ]]\n"
     ]
    },
    {
     "data": {
      "image/png": "[encoded data removed]",
      "text/plain": [
       "<Figure size 432x288 with 1 Axes>"
      ]
     },
     "metadata": {},
     "output_type": "display_data"
    }
   ],
   "source": [
    "from sklearn.decomposition import PCA\n",
    "data = np.array([x,y_1]).T\n",
    "pca = PCA(n_components=1)\n",
    "pca.fit(data)\n",
    "plt.scatter(data[:, 0], data[:, 1], alpha=0.2)\n",
    "draw_vector(pca.mean_, pca.mean_ - 7*pca.components_[0])\n",
    "draw_vector(pca.mean_, pca.mean_ + 7*pca.components_[0])\n",
    "print(pca.components_)"
   ]
  }
 ],
 "metadata": {
  "kernelspec": {
   "display_name": "Python 3",
   "language": "python",
   "name": "python3"
  },
  "language_info": {
   "codemirror_mode": {
    "name": "ipython",
    "version": 3
   },
   "file_extension": ".py",
   "mimetype": "text/x-python",
   "name": "python",
   "nbconvert_exporter": "python",
   "pygments_lexer": "ipython3",
   "version": "3.6.5"
  }
 },
 "nbformat": 4,
 "nbformat_minor": 2
}
