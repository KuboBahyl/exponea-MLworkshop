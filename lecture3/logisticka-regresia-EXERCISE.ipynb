{
 "cells": [
  {
   "cell_type": "markdown",
   "metadata": {},
   "source": [
    "## Importy"
   ]
  },
  {
   "cell_type": "code",
   "execution_count": null,
   "metadata": {},
   "outputs": [],
   "source": [
    "import numpy as np\n",
    "import pandas as pd\n",
    "import matplotlib.pyplot as plt\n",
    "%matplotlib inline"
   ]
  },
  {
   "cell_type": "markdown",
   "metadata": {},
   "source": [
    "# Data - priprava:\n",
    "- age: hodnoty voci veku 50 rokov\n",
    "- cholesterol: hodnoty oproti 5 mmol/liter (ideal pre dospelaka)\n",
    "- sex: 0 muzi, 1 zeny\n",
    "- death: True/False"
   ]
  },
  {
   "cell_type": "code",
   "execution_count": null,
   "metadata": {},
   "outputs": [],
   "source": [
    "labels = ['age', 'cholesterol', 'sex', 'death']\n",
    "infarkty = pd.read_csv('infarkty.txt', sep=\"\\t\\t\", names=labels).drop(0)\n",
    "infarkty.index -=1\n",
    "infarkty.head(10)"
   ]
  },
  {
   "cell_type": "code",
   "execution_count": null,
   "metadata": {},
   "outputs": [],
   "source": [
    "infarkty.describe()"
   ]
  },
  {
   "cell_type": "code",
   "execution_count": null,
   "metadata": {},
   "outputs": [],
   "source": [
    "infarkty.dtypes"
   ]
  },
  {
   "cell_type": "code",
   "execution_count": null,
   "metadata": {},
   "outputs": [],
   "source": [
    "# TODO 1: prepis datove typy columnov na numericke\n",
    "# specialne 'death' column by mal byt `int`\n",
    "# Hint: existuje columnova funkcia `pd.to_numeric()`\n",
    "\n",
    "for ... in ...:\n",
    "    ...\n",
    "\n",
    "print(infarkty.dtypes)\n",
    "infarkty.head()"
   ]
  },
  {
   "cell_type": "markdown",
   "metadata": {},
   "source": [
    "# Analyza, vizualizacia"
   ]
  },
  {
   "cell_type": "code",
   "execution_count": null,
   "metadata": {},
   "outputs": [],
   "source": [
    "# TODO 2: spocitaj pocet riadkov, pocet infarktov a vek najmladsieho mrtveho s infarktom\n",
    "\n",
    "rows = ...\n",
    "dead = ...\n",
    "youngest = ...\n",
    "\n",
    "\n",
    "print(\"Number of rows: {}\".format(rows))\n",
    "print(\"Dead people: {}\".format(dead))\n",
    "print(\"Youngest dead: {}\".format(youngest))"
   ]
  },
  {
   "cell_type": "code",
   "execution_count": null,
   "metadata": {},
   "outputs": [],
   "source": [
    "# TODO 3: dodefinuj funkciu, aby vykreslila vsetky data: \"Age\" oproti \"Cholesterolu\".\n",
    "# Infarkty nech su cervene a ostatne smrti cierne\n",
    "\n",
    "def plot_age_chol(infarkty):\n",
    "    bez_infarktu = ...\n",
    "    s_infraktom = ...\n",
    "\n",
    "    plt.scatter(...)\n",
    "    plt.scatter(...)\n",
    "    plt.xlabel('Age')\n",
    "    plt.ylabel('Cholesterol')\n",
    "    plt.show()\n",
    "    \n",
    "plot_age_chol(infarkty)"
   ]
  },
  {
   "cell_type": "markdown",
   "metadata": {},
   "source": [
    "# Logisticka regresia\n"
   ]
  },
  {
   "cell_type": "code",
   "execution_count": null,
   "metadata": {},
   "outputs": [],
   "source": [
    "from sklearn.linear_model import LogisticRegression\n",
    "\n",
    "X = infarkty[['age', 'cholesterol', 'sex']]\n",
    "y = infarkty['death']\n",
    "\n",
    "model = LogisticRegression()\n",
    "model.fit(X, y)\n",
    "\n",
    "coeffs = np.array(model.intercept_[0])\n",
    "coeffs = np.append(coeffs, model.coef_[0])\n",
    "\n",
    "print(\"Vyznam parametrov: \")\n",
    "print(['intercept', 'age', 'cholesterol', 'sex'])\n",
    "print(coeffs)\n",
    "print(\"...........................................\")\n",
    "print(\"ODDS ratios:\")\n",
    "print(np.exp(coeffs))"
   ]
  },
  {
   "cell_type": "markdown",
   "metadata": {},
   "source": [
    "### Logisticka funkcia"
   ]
  },
  {
   "cell_type": "code",
   "execution_count": null,
   "metadata": {},
   "outputs": [],
   "source": [
    "# TODO 4: definuj logisticku funkciu\n",
    "\n",
    "def logit(data, coeffs):\n",
    "    return ..."
   ]
  },
  {
   "cell_type": "markdown",
   "metadata": {},
   "source": [
    "### Muz, 61 rokov, cholesterol 6.1"
   ]
  },
  {
   "cell_type": "code",
   "execution_count": null,
   "metadata": {},
   "outputs": [],
   "source": [
    "# TODO 5: Spocitaj pravdepodobnost infarktu pomocou logistickej funkcie\n",
    "\n",
    "muz = ...\n",
    "\n",
    "prob = ...\n",
    "print(\"Pravdepodobnost umrtia: {}%\".format(100*prob))"
   ]
  },
  {
   "cell_type": "markdown",
   "metadata": {},
   "source": [
    "### Ak by to bola zena?"
   ]
  },
  {
   "cell_type": "code",
   "execution_count": null,
   "metadata": {},
   "outputs": [],
   "source": [
    "# TODO 6: To iste ako TODO 5, ale nech je to zena\n",
    "zena = ...\n",
    "\n",
    "prob = ...\n",
    "print(\"Pravdepodobnost umrtia: {}%\".format(100*prob))"
   ]
  },
  {
   "cell_type": "markdown",
   "metadata": {},
   "source": [
    "### Vyznam interceptu"
   ]
  },
  {
   "cell_type": "code",
   "execution_count": null,
   "metadata": {},
   "outputs": [],
   "source": [
    "# TODO 7: Spocitaj odds a pravdepodobnost priemerneho muza\n",
    "\n",
    "clovek_priemerny = ...\n",
    "\n",
    "odds = ...\n",
    "print(odds)\n",
    "\n",
    "prob = ...\n",
    "print(\"{}%\".format(100*prob))"
   ]
  },
  {
   "cell_type": "markdown",
   "metadata": {},
   "source": [
    "### Narast sance (ODDS) vs. narast pravdepodobnosti (prob)"
   ]
  },
  {
   "cell_type": "code",
   "execution_count": null,
   "metadata": {},
   "outputs": [],
   "source": [
    "# Nizka sanca zomriet - zena 40 rokov, cholesterol 3\n",
    "zdravy = np.array([1,-10,-2,1])\n",
    "prob = logit(zdravy, coeffs)\n",
    "print(\"Pravdepodobnost umrtia: {}%\".format(100*prob))"
   ]
  },
  {
   "cell_type": "code",
   "execution_count": null,
   "metadata": {},
   "outputs": [],
   "source": [
    "# Ten isty clovek s cholesterolom + 1\n",
    "zdravy2 = np.array([1,-10,-2+1,1])\n",
    "prob2 = logit(zdravy2, coeffs)\n",
    "print(\"Pravdepodobnost umrtia: {}%\".format(100*prob2))"
   ]
  },
  {
   "cell_type": "code",
   "execution_count": null,
   "metadata": {},
   "outputs": [],
   "source": [
    "print(prob2/prob)"
   ]
  },
  {
   "cell_type": "code",
   "execution_count": null,
   "metadata": {},
   "outputs": [],
   "source": [
    "odds = (prob2 / (1 - prob2)) / (prob / (1 - prob))\n",
    "print(odds)"
   ]
  },
  {
   "cell_type": "code",
   "execution_count": null,
   "metadata": {},
   "outputs": [],
   "source": [
    "# Vysoka sanca zomriet - muz 75 rokov, cholesterol 6.1\n",
    "chory = np.array([1,25,1.1,0])\n",
    "prob = logit(chory, coeffs)\n",
    "print(\"Pravdepodobnost umrtia: {}%\".format(100*prob))"
   ]
  },
  {
   "cell_type": "code",
   "execution_count": null,
   "metadata": {},
   "outputs": [],
   "source": [
    "# Ten isty clovek s cholesterolom + 1\n",
    "chory2 = np.array([1,25,1.1+1,0])\n",
    "prob2 = logit(chory2, coeffs)\n",
    "print(\"Pravdepodobnost umrtia: {}%\".format(100*prob2))"
   ]
  },
  {
   "cell_type": "code",
   "execution_count": null,
   "metadata": {},
   "outputs": [],
   "source": [
    "print(prob2/prob)"
   ]
  },
  {
   "cell_type": "code",
   "execution_count": null,
   "metadata": {},
   "outputs": [],
   "source": [
    "odds = (prob2 / (1 - prob2)) / (prob / (1 - prob))\n",
    "print(odds)"
   ]
  },
  {
   "cell_type": "markdown",
   "metadata": {},
   "source": [
    "# Ako model otestovat?"
   ]
  },
  {
   "cell_type": "code",
   "execution_count": null,
   "metadata": {},
   "outputs": [],
   "source": [
    "X = infarkty[['age', 'cholesterol', 'sex']]\n",
    "y = infarkty['death']\n",
    "\n",
    "# TODO 8: Rozdel vsetky data na trenovacie a testovacie.\n",
    "# Vzajomne indexy v X_train a Y_train musia byt rovnake, ale nahodne vybrate!\n",
    "# Pomer train : test nech je 80:20\n",
    "\n",
    "X_train = ... \n",
    "X_test = ... \n",
    "y_train = ...\n",
    "y_test = ...\n",
    "\n",
    "print('Train size: {}'.format(len(X_train)))\n",
    "print('Test size: {}'.format(len(X_test)))"
   ]
  },
  {
   "cell_type": "code",
   "execution_count": null,
   "metadata": {},
   "outputs": [],
   "source": [
    "# TODO 9: Natrenuje logisticku regresiu s trenovacimi datami\n",
    "# Ako sa zmenili ODDS ratios?\n",
    "\n",
    "model = ...\n",
    "model.fit(...)\n",
    "\n",
    "coeffs = np.array(model.intercept_[0])\n",
    "coeffs = np.append(coeffs, model.coef_[0])\n",
    "\n",
    "print(\"Vyznam parametrov: \")\n",
    "print(['intercept', 'age', 'cholesterol', 'sex'])\n",
    "print(coeffs)\n",
    "print(\"...........................................\")\n",
    "print(\"ODDS ratios:\")\n",
    "print(np.exp(coeffs))"
   ]
  },
  {
   "cell_type": "code",
   "execution_count": null,
   "metadata": {},
   "outputs": [],
   "source": [
    "# TODO 10: Vypocitaj 'presnost' (accuracy) modelu pomocou predikovanych 'y_pred'\n",
    "# a pomocou skutocnych 'y_test'. Ak nevies, co to 'accuracy' je, spytaj sa.\n",
    "\n",
    "import seaborn as sns\n",
    "from sklearn.metrics import confusion_matrix\n",
    "\n",
    "def print_summary(model, X_test, y_test):\n",
    "    y_pred = model.predict(X_test)\n",
    "\n",
    "    # presnost\n",
    "    accuracy = ...\n",
    "\n",
    "    # confusion tabulka\n",
    "    conf = confusion_matrix(y_test, y_pred)\n",
    "\n",
    "    sns.heatmap(conf, annot=True, fmt=\".0f\", linewidths=.5, square = True)\n",
    "    plt.ylabel('Smrt')\n",
    "    plt.xlabel('Predikovana smrt')\n",
    "    plt.title('Accuracy Score: {0:.2f}%'.format(100*accuracy), size = 15)\n",
    "    \n",
    "print_summary(model, X_test, y_test)"
   ]
  },
  {
   "cell_type": "markdown",
   "metadata": {},
   "source": [
    "# Ako model vylepsit?\n",
    "\n",
    "Vieme urobit nieco preto, aby sme modelovaci algoritmus vylepsili?"
   ]
  },
  {
   "cell_type": "markdown",
   "metadata": {},
   "source": [
    "## Standardizacia\n"
   ]
  },
  {
   "cell_type": "code",
   "execution_count": null,
   "metadata": {},
   "outputs": [],
   "source": [
    "from sklearn import preprocessing\n",
    "scaler = preprocessing.StandardScaler()\n",
    "\n",
    "infarkty_to_scale = infarkty[['age', 'cholesterol']]\n",
    "\n",
    "scaler.fit(infarkty_to_scale)\n",
    "print(\"Means of age, cholesterol: {}\".format(scaler.mean_))\n",
    "print(\"Standard deviations of age, cholesterol: {}\".format(scaler.scale_))"
   ]
  },
  {
   "cell_type": "code",
   "execution_count": null,
   "metadata": {
    "scrolled": true
   },
   "outputs": [],
   "source": [
    "infarkty_scaled = pd.DataFrame(scaler.transform(infarkty_to_scale), columns=['age', 'cholesterol'])\n",
    "infarkty_scaled[['sex', 'death']] = infarkty[['sex', 'death']]\n",
    "print(infarkty_scaled['age'].mean())\n",
    "print(infarkty_scaled['age'].std())"
   ]
  },
  {
   "cell_type": "code",
   "execution_count": null,
   "metadata": {},
   "outputs": [],
   "source": [
    "infarkty.head()"
   ]
  },
  {
   "cell_type": "code",
   "execution_count": null,
   "metadata": {},
   "outputs": [],
   "source": [
    "infarkty_scaled.head()"
   ]
  },
  {
   "cell_type": "code",
   "execution_count": null,
   "metadata": {},
   "outputs": [],
   "source": [
    "plot_age_chol(infarkty_scaled)"
   ]
  },
  {
   "cell_type": "markdown",
   "metadata": {},
   "source": [
    "## Regularizacia\n"
   ]
  },
  {
   "cell_type": "code",
   "execution_count": null,
   "metadata": {},
   "outputs": [],
   "source": [
    "model"
   ]
  },
  {
   "cell_type": "code",
   "execution_count": null,
   "metadata": {},
   "outputs": [],
   "source": [
    "X = infarkty_scaled[['age', 'cholesterol', 'sex']]\n",
    "y = infarkty_scaled['death']\n",
    "\n",
    "# Rozdelime na trenovacie a testovacie data - nahodne\n",
    "X_train, X_test, y_train, y_test = train_test_split(X, y, test_size=0.2, random_state=3)\n",
    "print('Train size: {}'.format(len(X_train)))\n",
    "print('Test size: {}'.format(len(X_test)))"
   ]
  },
  {
   "cell_type": "code",
   "execution_count": null,
   "metadata": {},
   "outputs": [],
   "source": [
    "model = LogisticRegression(fit_intercept=True,\n",
    "                           C=0.01,\n",
    "                           penalty=\"l2\",\n",
    "                           class_weight=\"balanced\")\n",
    "\n",
    "model.fit(X_train, y_train)\n",
    "\n",
    "coeffs = np.array(model.intercept_[0])\n",
    "coeffs = np.append(coeffs, model.coef_[0])\n",
    "\n",
    "print(\"Vyznam parametrov: \")\n",
    "print(['intercept', 'age', 'cholesterol', 'sex'])\n",
    "print(coeffs)\n",
    "print(\"...........................................\")\n",
    "print(\"ODDS ratios:\")\n",
    "print(np.exp(coeffs))\n",
    "\n",
    "print_summary(model, X_test, y_test)"
   ]
  },
  {
   "cell_type": "markdown",
   "metadata": {},
   "source": [
    "# Hotovo! Vznikol možno tvoj prvý optimalizovaný Machine Learning model :)"
   ]
  }
 ],
 "metadata": {
  "kernelspec": {
   "display_name": "Python 3",
   "language": "python",
   "name": "python3"
  },
  "language_info": {
   "codemirror_mode": {
    "name": "ipython",
    "version": 3
   },
   "file_extension": ".py",
   "mimetype": "text/x-python",
   "name": "python",
   "nbconvert_exporter": "python",
   "pygments_lexer": "ipython3",
   "version": "3.6.5"
  }
 },
 "nbformat": 4,
 "nbformat_minor": 2
}
