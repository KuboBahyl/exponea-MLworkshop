{
 "cells": [
  {
   "cell_type": "markdown",
   "metadata": {},
   "source": [
    "## Importy"
   ]
  },
  {
   "cell_type": "code",
   "execution_count": 323,
   "metadata": {},
   "outputs": [],
   "source": [
    "import numpy as np\n",
    "import pandas as pd\n",
    "import matplotlib.pyplot as plt\n",
    "%matplotlib inline"
   ]
  },
  {
   "cell_type": "markdown",
   "metadata": {},
   "source": [
    "# Data - priprava:\n",
    "- age: hodnoty voci veku 50 rokov\n",
    "- cholesterol: hodnoty oproti 5 mmol/liter (ideal pre dospelaka)\n",
    "- sex: 0 muzi, 1 zeny\n",
    "- death: True/False"
   ]
  },
  {
   "cell_type": "code",
   "execution_count": 202,
   "metadata": {},
   "outputs": [
    {
     "name": "stderr",
     "output_type": "stream",
     "text": [
      "/usr/local/lib/python3.6/site-packages/ipykernel_launcher.py:2: ParserWarning: Falling back to the 'python' engine because the 'c' engine does not support regex separators (separators > 1 char and different from '\\s+' are interpreted as regex); you can avoid this warning by specifying engine='python'.\n",
      "  \n"
     ]
    },
    {
     "data": {
      "text/html": [
       "<div>\n",
       "<style scoped>\n",
       "    .dataframe tbody tr th:only-of-type {\n",
       "        vertical-align: middle;\n",
       "    }\n",
       "\n",
       "    .dataframe tbody tr th {\n",
       "        vertical-align: top;\n",
       "    }\n",
       "\n",
       "    .dataframe thead th {\n",
       "        text-align: right;\n",
       "    }\n",
       "</style>\n",
       "<table border=\"1\" class=\"dataframe\">\n",
       "  <thead>\n",
       "    <tr style=\"text-align: right;\">\n",
       "      <th></th>\n",
       "      <th>age</th>\n",
       "      <th>cholesterol</th>\n",
       "      <th>sex</th>\n",
       "      <th>death</th>\n",
       "    </tr>\n",
       "  </thead>\n",
       "  <tbody>\n",
       "    <tr>\n",
       "      <th>0</th>\n",
       "      <td>-2</td>\n",
       "      <td>2.8</td>\n",
       "      <td>0</td>\n",
       "      <td>0.0</td>\n",
       "    </tr>\n",
       "    <tr>\n",
       "      <th>1</th>\n",
       "      <td>1</td>\n",
       "      <td>0.2</td>\n",
       "      <td>0</td>\n",
       "      <td>0.0</td>\n",
       "    </tr>\n",
       "    <tr>\n",
       "      <th>2</th>\n",
       "      <td>7</td>\n",
       "      <td>-0.1</td>\n",
       "      <td>1</td>\n",
       "      <td>0.0</td>\n",
       "    </tr>\n",
       "    <tr>\n",
       "      <th>3</th>\n",
       "      <td>18</td>\n",
       "      <td>-1.1</td>\n",
       "      <td>1</td>\n",
       "      <td>0.0</td>\n",
       "    </tr>\n",
       "    <tr>\n",
       "      <th>4</th>\n",
       "      <td>-4</td>\n",
       "      <td>-1.7</td>\n",
       "      <td>1</td>\n",
       "      <td>0.0</td>\n",
       "    </tr>\n",
       "    <tr>\n",
       "      <th>5</th>\n",
       "      <td>17</td>\n",
       "      <td>1.3</td>\n",
       "      <td>1</td>\n",
       "      <td>0.0</td>\n",
       "    </tr>\n",
       "    <tr>\n",
       "      <th>6</th>\n",
       "      <td>19</td>\n",
       "      <td>0.9</td>\n",
       "      <td>1</td>\n",
       "      <td>0.0</td>\n",
       "    </tr>\n",
       "    <tr>\n",
       "      <th>7</th>\n",
       "      <td>10</td>\n",
       "      <td>2.9</td>\n",
       "      <td>1</td>\n",
       "      <td>0.0</td>\n",
       "    </tr>\n",
       "    <tr>\n",
       "      <th>8</th>\n",
       "      <td>9</td>\n",
       "      <td>1.0</td>\n",
       "      <td>1</td>\n",
       "      <td>0.0</td>\n",
       "    </tr>\n",
       "    <tr>\n",
       "      <th>9</th>\n",
       "      <td>-9</td>\n",
       "      <td>-1.7</td>\n",
       "      <td>1</td>\n",
       "      <td>0.0</td>\n",
       "    </tr>\n",
       "  </tbody>\n",
       "</table>\n",
       "</div>"
      ],
      "text/plain": [
       "  age cholesterol sex  death\n",
       "0  -2         2.8   0    0.0\n",
       "1   1         0.2   0    0.0\n",
       "2   7        -0.1   1    0.0\n",
       "3  18        -1.1   1    0.0\n",
       "4  -4        -1.7   1    0.0\n",
       "5  17         1.3   1    0.0\n",
       "6  19         0.9   1    0.0\n",
       "7  10         2.9   1    0.0\n",
       "8   9         1.0   1    0.0\n",
       "9  -9        -1.7   1    0.0"
      ]
     },
     "execution_count": 202,
     "metadata": {},
     "output_type": "execute_result"
    }
   ],
   "source": [
    "labels = ['age', 'cholesterol', 'sex', 'death']\n",
    "infarkty = pd.read_csv('infarkty.txt', sep=\"\\t\\t\", names=labels).drop(0)\n",
    "infarkty.index -=1\n",
    "infarkty.head(10)"
   ]
  },
  {
   "cell_type": "code",
   "execution_count": 207,
   "metadata": {},
   "outputs": [
    {
     "data": {
      "text/html": [
       "<div>\n",
       "<style scoped>\n",
       "    .dataframe tbody tr th:only-of-type {\n",
       "        vertical-align: middle;\n",
       "    }\n",
       "\n",
       "    .dataframe tbody tr th {\n",
       "        vertical-align: top;\n",
       "    }\n",
       "\n",
       "    .dataframe thead th {\n",
       "        text-align: right;\n",
       "    }\n",
       "</style>\n",
       "<table border=\"1\" class=\"dataframe\">\n",
       "  <thead>\n",
       "    <tr style=\"text-align: right;\">\n",
       "      <th></th>\n",
       "      <th>age</th>\n",
       "      <th>cholesterol</th>\n",
       "      <th>sex</th>\n",
       "      <th>death</th>\n",
       "    </tr>\n",
       "  </thead>\n",
       "  <tbody>\n",
       "    <tr>\n",
       "      <th>count</th>\n",
       "      <td>450.000000</td>\n",
       "      <td>450.000000</td>\n",
       "      <td>450.000000</td>\n",
       "      <td>450.000000</td>\n",
       "    </tr>\n",
       "    <tr>\n",
       "      <th>mean</th>\n",
       "      <td>4.937778</td>\n",
       "      <td>0.525111</td>\n",
       "      <td>0.593333</td>\n",
       "      <td>0.117778</td>\n",
       "    </tr>\n",
       "    <tr>\n",
       "      <th>std</th>\n",
       "      <td>8.714253</td>\n",
       "      <td>1.457326</td>\n",
       "      <td>0.491758</td>\n",
       "      <td>0.322704</td>\n",
       "    </tr>\n",
       "    <tr>\n",
       "      <th>min</th>\n",
       "      <td>-10.000000</td>\n",
       "      <td>-2.000000</td>\n",
       "      <td>0.000000</td>\n",
       "      <td>0.000000</td>\n",
       "    </tr>\n",
       "    <tr>\n",
       "      <th>25%</th>\n",
       "      <td>-2.000000</td>\n",
       "      <td>-0.700000</td>\n",
       "      <td>0.000000</td>\n",
       "      <td>0.000000</td>\n",
       "    </tr>\n",
       "    <tr>\n",
       "      <th>50%</th>\n",
       "      <td>4.000000</td>\n",
       "      <td>0.500000</td>\n",
       "      <td>1.000000</td>\n",
       "      <td>0.000000</td>\n",
       "    </tr>\n",
       "    <tr>\n",
       "      <th>75%</th>\n",
       "      <td>12.000000</td>\n",
       "      <td>1.700000</td>\n",
       "      <td>1.000000</td>\n",
       "      <td>0.000000</td>\n",
       "    </tr>\n",
       "    <tr>\n",
       "      <th>max</th>\n",
       "      <td>20.000000</td>\n",
       "      <td>3.000000</td>\n",
       "      <td>1.000000</td>\n",
       "      <td>1.000000</td>\n",
       "    </tr>\n",
       "  </tbody>\n",
       "</table>\n",
       "</div>"
      ],
      "text/plain": [
       "              age  cholesterol         sex       death\n",
       "count  450.000000   450.000000  450.000000  450.000000\n",
       "mean     4.937778     0.525111    0.593333    0.117778\n",
       "std      8.714253     1.457326    0.491758    0.322704\n",
       "min    -10.000000    -2.000000    0.000000    0.000000\n",
       "25%     -2.000000    -0.700000    0.000000    0.000000\n",
       "50%      4.000000     0.500000    1.000000    0.000000\n",
       "75%     12.000000     1.700000    1.000000    0.000000\n",
       "max     20.000000     3.000000    1.000000    1.000000"
      ]
     },
     "execution_count": 207,
     "metadata": {},
     "output_type": "execute_result"
    }
   ],
   "source": [
    "infarkty.describe()"
   ]
  },
  {
   "cell_type": "code",
   "execution_count": 206,
   "metadata": {},
   "outputs": [
    {
     "data": {
      "text/plain": [
       "age              int64\n",
       "cholesterol    float64\n",
       "sex              int64\n",
       "death            int64\n",
       "dtype: object"
      ]
     },
     "execution_count": 206,
     "metadata": {},
     "output_type": "execute_result"
    }
   ],
   "source": [
    "infarkty.dtypes"
   ]
  },
  {
   "cell_type": "code",
   "execution_count": 205,
   "metadata": {},
   "outputs": [
    {
     "data": {
      "text/html": [
       "<div>\n",
       "<style scoped>\n",
       "    .dataframe tbody tr th:only-of-type {\n",
       "        vertical-align: middle;\n",
       "    }\n",
       "\n",
       "    .dataframe tbody tr th {\n",
       "        vertical-align: top;\n",
       "    }\n",
       "\n",
       "    .dataframe thead th {\n",
       "        text-align: right;\n",
       "    }\n",
       "</style>\n",
       "<table border=\"1\" class=\"dataframe\">\n",
       "  <thead>\n",
       "    <tr style=\"text-align: right;\">\n",
       "      <th></th>\n",
       "      <th>age</th>\n",
       "      <th>cholesterol</th>\n",
       "      <th>sex</th>\n",
       "      <th>death</th>\n",
       "    </tr>\n",
       "  </thead>\n",
       "  <tbody>\n",
       "    <tr>\n",
       "      <th>0</th>\n",
       "      <td>-2</td>\n",
       "      <td>2.8</td>\n",
       "      <td>0</td>\n",
       "      <td>0</td>\n",
       "    </tr>\n",
       "    <tr>\n",
       "      <th>1</th>\n",
       "      <td>1</td>\n",
       "      <td>0.2</td>\n",
       "      <td>0</td>\n",
       "      <td>0</td>\n",
       "    </tr>\n",
       "    <tr>\n",
       "      <th>2</th>\n",
       "      <td>7</td>\n",
       "      <td>-0.1</td>\n",
       "      <td>1</td>\n",
       "      <td>0</td>\n",
       "    </tr>\n",
       "    <tr>\n",
       "      <th>3</th>\n",
       "      <td>18</td>\n",
       "      <td>-1.1</td>\n",
       "      <td>1</td>\n",
       "      <td>0</td>\n",
       "    </tr>\n",
       "    <tr>\n",
       "      <th>4</th>\n",
       "      <td>-4</td>\n",
       "      <td>-1.7</td>\n",
       "      <td>1</td>\n",
       "      <td>0</td>\n",
       "    </tr>\n",
       "  </tbody>\n",
       "</table>\n",
       "</div>"
      ],
      "text/plain": [
       "   age  cholesterol  sex  death\n",
       "0   -2          2.8    0      0\n",
       "1    1          0.2    0      0\n",
       "2    7         -0.1    1      0\n",
       "3   18         -1.1    1      0\n",
       "4   -4         -1.7    1      0"
      ]
     },
     "execution_count": 205,
     "metadata": {},
     "output_type": "execute_result"
    }
   ],
   "source": [
    "# Uloha 1: prepis datove typy columnov na numericke\n",
    "# specialne 'death' column by mal byt `int`\n",
    "# Hint: existuje columnova funkcia `pd.to_numeric()`\n",
    "\n",
    "for label in labels:\n",
    "    infarkty[label] = pd.to_numeric(infarkty[label])\n",
    "\n",
    "infarkty['death'] = infarkty['death'].map({0.0: 0, 1.0: 1})\n",
    "infarkty.head()"
   ]
  },
  {
   "cell_type": "markdown",
   "metadata": {},
   "source": [
    "# Analyza, vizualizacia"
   ]
  },
  {
   "cell_type": "code",
   "execution_count": 208,
   "metadata": {},
   "outputs": [
    {
     "name": "stdout",
     "output_type": "stream",
     "text": [
      "Number of rows: 450\n",
      "Dead people: 53\n",
      "Youngest dead: -10\n"
     ]
    }
   ],
   "source": [
    "rows = len(infarkty)\n",
    "dead = len(infarkty[infarkty['death'] == 1])\n",
    "youngest = min(infarkty['age'][infarkty['death'] == 1])\n",
    "\n",
    "\n",
    "print(\"Number of rows: {}\".format(rows))\n",
    "print(\"Dead people: {}\".format(dead))\n",
    "print(\"Youngest dead: {}\".format(youngest))"
   ]
  },
  {
   "cell_type": "code",
   "execution_count": 222,
   "metadata": {},
   "outputs": [
    {
     "data": {
      "image/png": "[encoded data removed]",
      "text/plain": [
       "<Figure size 432x288 with 1 Axes>"
      ]
     },
     "metadata": {},
     "output_type": "display_data"
    }
   ],
   "source": [
    "def plot_age_chol(infarkty):\n",
    "    live = infarkty[infarkty['death'] == 0]\n",
    "    dead =infarkty[infarkty['death'] == 1]\n",
    "\n",
    "    plt.scatter(live['age'], live['cholesterol'], c='blue')\n",
    "    plt.scatter(dead['age'], dead['cholesterol'], c='red')\n",
    "    plt.xlabel('Age')\n",
    "    plt.ylabel('Cholesterol')\n",
    "    plt.show()\n",
    "    \n",
    "plot_age_chol(infarkty)"
   ]
  },
  {
   "cell_type": "markdown",
   "metadata": {},
   "source": [
    "# Logisticka regresia\n"
   ]
  },
  {
   "cell_type": "code",
   "execution_count": 286,
   "metadata": {},
   "outputs": [
    {
     "name": "stdout",
     "output_type": "stream",
     "text": [
      "Vyznam parametrov: \n",
      "['intercept', 'age', 'cholesterol', 'sex']\n",
      "[-2.46093128  0.01294838  0.77008186 -0.77163399]\n",
      "...........................................\n",
      "ODDS ratios:\n",
      "[0.08535542 1.01303258 2.15994306 0.46225713]\n"
     ]
    }
   ],
   "source": [
    "from sklearn.linear_model import LogisticRegression\n",
    "\n",
    "X = infarkty[['age', 'cholesterol', 'sex']]\n",
    "y = infarkty['death']\n",
    "\n",
    "model = LogisticRegression()\n",
    "model.fit(X, y)\n",
    "\n",
    "coeffs = np.array(model.intercept_[0])\n",
    "coeffs = np.append(coeffs, model.coef_[0])\n",
    "\n",
    "print(\"Vyznam parametrov: \")\n",
    "print(['intercept', 'age', 'cholesterol', 'sex'])\n",
    "print(coeffs)\n",
    "print(\"...........................................\")\n",
    "print(\"ODDS ratios:\")\n",
    "print(np.exp(coeffs))"
   ]
  },
  {
   "cell_type": "markdown",
   "metadata": {},
   "source": [
    "### Logisticka funkcia"
   ]
  },
  {
   "cell_type": "code",
   "execution_count": 311,
   "metadata": {},
   "outputs": [],
   "source": [
    "def logit(data, coeffs):\n",
    "    return 1 / (1 + np.exp(-data.dot(coeffs)))"
   ]
  },
  {
   "cell_type": "markdown",
   "metadata": {},
   "source": [
    "### Muz, 61 rokov, cholesterol 6.1"
   ]
  },
  {
   "cell_type": "code",
   "execution_count": 290,
   "metadata": {},
   "outputs": [
    {
     "name": "stdout",
     "output_type": "stream",
     "text": [
      "Pravdepodobnost umrtia: 18.672854408705426%\n"
     ]
    }
   ],
   "source": [
    "muz = np.array([1, 11, 1.1, 0])\n",
    "\n",
    "prob = logit(muz, coeffs)\n",
    "print(\"Pravdepodobnost umrtia: {}%\".format(100*prob))"
   ]
  },
  {
   "cell_type": "markdown",
   "metadata": {},
   "source": [
    "### Ak by to bola zena?"
   ]
  },
  {
   "cell_type": "code",
   "execution_count": 291,
   "metadata": {},
   "outputs": [
    {
     "name": "stdout",
     "output_type": "stream",
     "text": [
      "Pravdepodobnost umrtia: 9.595125171960198%\n"
     ]
    }
   ],
   "source": [
    "zena = muz\n",
    "zena[3] = 1\n",
    "\n",
    "prob = logit(zena, coeffs)\n",
    "print(\"Pravdepodobnost umrtia: {}%\".format(100*prob))"
   ]
  },
  {
   "cell_type": "markdown",
   "metadata": {},
   "source": [
    "### Vyznam interceptu"
   ]
  },
  {
   "cell_type": "code",
   "execution_count": 295,
   "metadata": {},
   "outputs": [
    {
     "name": "stdout",
     "output_type": "stream",
     "text": [
      "0.08535542447124\n",
      "7.864283215134176%\n"
     ]
    }
   ],
   "source": [
    "clovek = np.array([1,0,0,0]) # priemerny clovek\n",
    "\n",
    "odds = np.exp(coeffs[0])\n",
    "print(odds)\n",
    "\n",
    "prob = odds / (1 + odds)\n",
    "print(\"{}%\".format(100*prob))"
   ]
  },
  {
   "cell_type": "markdown",
   "metadata": {},
   "source": [
    "### Narast sance (ODDS) vs. narast pravdepodobnosti (prob)"
   ]
  },
  {
   "cell_type": "code",
   "execution_count": 300,
   "metadata": {},
   "outputs": [
    {
     "name": "stdout",
     "output_type": "stream",
     "text": [
      "Pravdepodobnost umrtia: 0.7375323803778361%\n"
     ]
    }
   ],
   "source": [
    "# Nizka sanca zomriet - zena 40 rokov, cholesterol 3\n",
    "zdravy = np.array([1,-10,-2,1])\n",
    "prob = logit(zdravy, coeffs)\n",
    "print(\"Pravdepodobnost umrtia: {}%\".format(100*prob))"
   ]
  },
  {
   "cell_type": "code",
   "execution_count": 301,
   "metadata": {},
   "outputs": [
    {
     "name": "stdout",
     "output_type": "stream",
     "text": [
      "Pravdepodobnost umrtia: 1.5795152624119069%\n"
     ]
    }
   ],
   "source": [
    "# Ten isty clovek s cholesterolom + 1\n",
    "zdravy2 = np.array([1,-10,-2+1,1])\n",
    "prob2 = logit(zdravy2, coeffs)\n",
    "print(\"Pravdepodobnost umrtia: {}%\".format(100*prob2))"
   ]
  },
  {
   "cell_type": "code",
   "execution_count": 302,
   "metadata": {},
   "outputs": [
    {
     "name": "stdout",
     "output_type": "stream",
     "text": [
      "2.1416215808758454\n"
     ]
    }
   ],
   "source": [
    "print(prob2/prob)"
   ]
  },
  {
   "cell_type": "code",
   "execution_count": 304,
   "metadata": {},
   "outputs": [
    {
     "name": "stdout",
     "output_type": "stream",
     "text": [
      "2.1599430585204638\n"
     ]
    }
   ],
   "source": [
    "odds = (prob2 / (1 - prob2)) / (prob / (1 - prob))\n",
    "print(odds)"
   ]
  },
  {
   "cell_type": "code",
   "execution_count": 307,
   "metadata": {},
   "outputs": [
    {
     "name": "stdout",
     "output_type": "stream",
     "text": [
      "Pravdepodobnost umrtia: 21.5830526044298%\n"
     ]
    }
   ],
   "source": [
    "# Vysoka sanca zomriet - muz 75 rokov, cholesterol 6.1\n",
    "chory = np.array([1,25,1.1,0])\n",
    "prob = logit(chory, coeffs)\n",
    "print(\"Pravdepodobnost umrtia: {}%\".format(100*prob))"
   ]
  },
  {
   "cell_type": "code",
   "execution_count": 308,
   "metadata": {},
   "outputs": [
    {
     "name": "stdout",
     "output_type": "stream",
     "text": [
      "Pravdepodobnost umrtia: 37.28405876575465%\n"
     ]
    }
   ],
   "source": [
    "# Ten isty clovek s cholesterolom + 1\n",
    "chory2 = np.array([1,25,1.1+1,0])\n",
    "prob2 = logit(chory2, coeffs)\n",
    "print(\"Pravdepodobnost umrtia: {}%\".format(100*prob2))"
   ]
  },
  {
   "cell_type": "code",
   "execution_count": 309,
   "metadata": {},
   "outputs": [
    {
     "name": "stdout",
     "output_type": "stream",
     "text": [
      "1.7274692069324018\n"
     ]
    }
   ],
   "source": [
    "print(prob2/prob)"
   ]
  },
  {
   "cell_type": "code",
   "execution_count": 310,
   "metadata": {},
   "outputs": [
    {
     "name": "stdout",
     "output_type": "stream",
     "text": [
      "2.159943058520463\n"
     ]
    }
   ],
   "source": [
    "odds = (prob2 / (1 - prob2)) / (prob / (1 - prob))\n",
    "print(odds)"
   ]
  },
  {
   "cell_type": "markdown",
   "metadata": {},
   "source": [
    "# Ako model otestovat?"
   ]
  },
  {
   "cell_type": "code",
   "execution_count": 315,
   "metadata": {},
   "outputs": [
    {
     "name": "stdout",
     "output_type": "stream",
     "text": [
      "Train size: 360\n",
      "Test size: 90\n"
     ]
    }
   ],
   "source": [
    "from sklearn.model_selection import train_test_split\n",
    "\n",
    "X = infarkty[['age', 'cholesterol', 'sex']]\n",
    "y = infarkty['death']\n",
    "\n",
    "# Rozdelime na trenovacie a testovacie data - nahodne\n",
    "X_train, X_test, y_train, y_test = train_test_split(X, y, test_size=0.2, random_state=3)\n",
    "print('Train size: {}'.format(len(X_train)))\n",
    "print('Test size: {}'.format(len(X_test)))"
   ]
  },
  {
   "cell_type": "code",
   "execution_count": 341,
   "metadata": {},
   "outputs": [
    {
     "name": "stdout",
     "output_type": "stream",
     "text": [
      "Vyznam parametrov: \n",
      "['intercept', 'age', 'cholesterol', 'sex']\n",
      "[-2.43369552 -0.00296732  0.81171957 -0.71404435]\n",
      "...........................................\n",
      "ODDS ratios:\n",
      "[0.08771209 0.99703708 2.25177675 0.48965983]\n"
     ]
    }
   ],
   "source": [
    "model = LogisticRegression()\n",
    "model.fit(X_train, y_train)\n",
    "\n",
    "coeffs = np.array(model.intercept_[0])\n",
    "coeffs = np.append(coeffs, model.coef_[0])\n",
    "\n",
    "print(\"Vyznam parametrov: \")\n",
    "print(['intercept', 'age', 'cholesterol', 'sex'])\n",
    "print(coeffs)\n",
    "print(\"...........................................\")\n",
    "print(\"ODDS ratios:\")\n",
    "print(np.exp(coeffs))"
   ]
  },
  {
   "cell_type": "code",
   "execution_count": 342,
   "metadata": {},
   "outputs": [
    {
     "data": {
      "image/png": "[encoded data removed]",
      "text/plain": [
       "<Figure size 432x288 with 2 Axes>"
      ]
     },
     "metadata": {},
     "output_type": "display_data"
    }
   ],
   "source": [
    "import seaborn as sns\n",
    "from sklearn.metrics import accuracy_score, confusion_matrix\n",
    "\n",
    "def print_summary(model, X_test, y_test):\n",
    "    y_pred = model.predict(X_test)\n",
    "\n",
    "    # presnost\n",
    "    accuracy = accuracy_score(y_test, y_pred)\n",
    "\n",
    "    # confusion tabulka\n",
    "    conf = confusion_matrix(y_test, y_pred)\n",
    "\n",
    "    sns.heatmap(conf, annot=True, fmt=\".0f\", linewidths=.5, square = True)\n",
    "    plt.ylabel('Smrt')\n",
    "    plt.xlabel('Predikovana smrt')\n",
    "    plt.title('Accuracy Score: {0:.2f}%'.format(100*accuracy), size = 15)\n",
    "    \n",
    "print_summary(model, X_test, y_test)"
   ]
  },
  {
   "cell_type": "markdown",
   "metadata": {},
   "source": [
    "# Ako model vylepsit?\n",
    "\n",
    "Vieme urobit nieco preto, aby sme modelovaci algoritmus vylepsili?"
   ]
  },
  {
   "cell_type": "markdown",
   "metadata": {},
   "source": [
    "## Standardizacia\n"
   ]
  },
  {
   "cell_type": "code",
   "execution_count": 210,
   "metadata": {},
   "outputs": [
    {
     "name": "stdout",
     "output_type": "stream",
     "text": [
      "Means of age, cholesterol: [4.93777778 0.52511111]\n",
      "Standard deviations of age, cholesterol: [8.70456557 1.4557062 ]\n"
     ]
    }
   ],
   "source": [
    "from sklearn import preprocessing\n",
    "scaler = preprocessing.StandardScaler()\n",
    "\n",
    "infarkty_to_scale = infarkty[['age', 'cholesterol']]\n",
    "\n",
    "scaler.fit(infarkty_to_scale)\n",
    "print(\"Means of age, cholesterol: {}\".format(scaler.mean_))\n",
    "print(\"Standard deviations of age, cholesterol: {}\".format(scaler.scale_))"
   ]
  },
  {
   "cell_type": "code",
   "execution_count": 214,
   "metadata": {
    "scrolled": true
   },
   "outputs": [
    {
     "name": "stdout",
     "output_type": "stream",
     "text": [
      "-3.157967714489334e-17\n",
      "1.0011129663989997\n"
     ]
    }
   ],
   "source": [
    "infarkty_scaled = pd.DataFrame(scaler.transform(infarkty_to_scale), columns=['age', 'cholesterol'])\n",
    "infarkty_scaled[['sex', 'death']] = infarkty[['sex', 'death']]\n",
    "print(infarkty_scaled['age'].mean())\n",
    "print(infarkty_scaled['age'].std())"
   ]
  },
  {
   "cell_type": "code",
   "execution_count": 335,
   "metadata": {},
   "outputs": [
    {
     "data": {
      "text/html": [
       "<div>\n",
       "<style scoped>\n",
       "    .dataframe tbody tr th:only-of-type {\n",
       "        vertical-align: middle;\n",
       "    }\n",
       "\n",
       "    .dataframe tbody tr th {\n",
       "        vertical-align: top;\n",
       "    }\n",
       "\n",
       "    .dataframe thead th {\n",
       "        text-align: right;\n",
       "    }\n",
       "</style>\n",
       "<table border=\"1\" class=\"dataframe\">\n",
       "  <thead>\n",
       "    <tr style=\"text-align: right;\">\n",
       "      <th></th>\n",
       "      <th>age</th>\n",
       "      <th>cholesterol</th>\n",
       "      <th>sex</th>\n",
       "      <th>death</th>\n",
       "    </tr>\n",
       "  </thead>\n",
       "  <tbody>\n",
       "    <tr>\n",
       "      <th>0</th>\n",
       "      <td>-2</td>\n",
       "      <td>2.8</td>\n",
       "      <td>0</td>\n",
       "      <td>0</td>\n",
       "    </tr>\n",
       "    <tr>\n",
       "      <th>1</th>\n",
       "      <td>1</td>\n",
       "      <td>0.2</td>\n",
       "      <td>0</td>\n",
       "      <td>0</td>\n",
       "    </tr>\n",
       "    <tr>\n",
       "      <th>2</th>\n",
       "      <td>7</td>\n",
       "      <td>-0.1</td>\n",
       "      <td>1</td>\n",
       "      <td>0</td>\n",
       "    </tr>\n",
       "    <tr>\n",
       "      <th>3</th>\n",
       "      <td>18</td>\n",
       "      <td>-1.1</td>\n",
       "      <td>1</td>\n",
       "      <td>0</td>\n",
       "    </tr>\n",
       "    <tr>\n",
       "      <th>4</th>\n",
       "      <td>-4</td>\n",
       "      <td>-1.7</td>\n",
       "      <td>1</td>\n",
       "      <td>0</td>\n",
       "    </tr>\n",
       "  </tbody>\n",
       "</table>\n",
       "</div>"
      ],
      "text/plain": [
       "   age  cholesterol  sex  death\n",
       "0   -2          2.8    0      0\n",
       "1    1          0.2    0      0\n",
       "2    7         -0.1    1      0\n",
       "3   18         -1.1    1      0\n",
       "4   -4         -1.7    1      0"
      ]
     },
     "execution_count": 335,
     "metadata": {},
     "output_type": "execute_result"
    }
   ],
   "source": [
    "infarkty.head()"
   ]
  },
  {
   "cell_type": "code",
   "execution_count": 336,
   "metadata": {},
   "outputs": [
    {
     "data": {
      "text/html": [
       "<div>\n",
       "<style scoped>\n",
       "    .dataframe tbody tr th:only-of-type {\n",
       "        vertical-align: middle;\n",
       "    }\n",
       "\n",
       "    .dataframe tbody tr th {\n",
       "        vertical-align: top;\n",
       "    }\n",
       "\n",
       "    .dataframe thead th {\n",
       "        text-align: right;\n",
       "    }\n",
       "</style>\n",
       "<table border=\"1\" class=\"dataframe\">\n",
       "  <thead>\n",
       "    <tr style=\"text-align: right;\">\n",
       "      <th></th>\n",
       "      <th>age</th>\n",
       "      <th>cholesterol</th>\n",
       "      <th>sex</th>\n",
       "      <th>death</th>\n",
       "    </tr>\n",
       "  </thead>\n",
       "  <tbody>\n",
       "    <tr>\n",
       "      <th>0</th>\n",
       "      <td>-0.797027</td>\n",
       "      <td>1.562739</td>\n",
       "      <td>0</td>\n",
       "      <td>0</td>\n",
       "    </tr>\n",
       "    <tr>\n",
       "      <th>1</th>\n",
       "      <td>-0.452381</td>\n",
       "      <td>-0.223336</td>\n",
       "      <td>0</td>\n",
       "      <td>0</td>\n",
       "    </tr>\n",
       "    <tr>\n",
       "      <th>2</th>\n",
       "      <td>0.236913</td>\n",
       "      <td>-0.429421</td>\n",
       "      <td>1</td>\n",
       "      <td>0</td>\n",
       "    </tr>\n",
       "    <tr>\n",
       "      <th>3</th>\n",
       "      <td>1.500617</td>\n",
       "      <td>-1.116373</td>\n",
       "      <td>1</td>\n",
       "      <td>0</td>\n",
       "    </tr>\n",
       "    <tr>\n",
       "      <th>4</th>\n",
       "      <td>-1.026792</td>\n",
       "      <td>-1.528544</td>\n",
       "      <td>1</td>\n",
       "      <td>0</td>\n",
       "    </tr>\n",
       "  </tbody>\n",
       "</table>\n",
       "</div>"
      ],
      "text/plain": [
       "        age  cholesterol  sex  death\n",
       "0 -0.797027     1.562739    0      0\n",
       "1 -0.452381    -0.223336    0      0\n",
       "2  0.236913    -0.429421    1      0\n",
       "3  1.500617    -1.116373    1      0\n",
       "4 -1.026792    -1.528544    1      0"
      ]
     },
     "execution_count": 336,
     "metadata": {},
     "output_type": "execute_result"
    }
   ],
   "source": [
    "infarkty_scaled.head()"
   ]
  },
  {
   "cell_type": "code",
   "execution_count": 337,
   "metadata": {},
   "outputs": [
    {
     "data": {
      "image/png": "[encoded data removed]",
      "text/plain": [
       "<Figure size 432x288 with 1 Axes>"
      ]
     },
     "metadata": {},
     "output_type": "display_data"
    }
   ],
   "source": [
    "plot_age_chol(infarkty_scaled)"
   ]
  },
  {
   "cell_type": "markdown",
   "metadata": {},
   "source": [
    "## Regularizacia\n"
   ]
  },
  {
   "cell_type": "code",
   "execution_count": 338,
   "metadata": {},
   "outputs": [
    {
     "data": {
      "text/plain": [
       "LogisticRegression(C=1.0, class_weight=None, dual=False, fit_intercept=True,\n",
       "          intercept_scaling=1, max_iter=100, multi_class='ovr', n_jobs=1,\n",
       "          penalty='l2', random_state=None, solver='liblinear', tol=0.0001,\n",
       "          verbose=0, warm_start=False)"
      ]
     },
     "execution_count": 338,
     "metadata": {},
     "output_type": "execute_result"
    }
   ],
   "source": [
    "model"
   ]
  },
  {
   "cell_type": "code",
   "execution_count": 381,
   "metadata": {},
   "outputs": [
    {
     "name": "stdout",
     "output_type": "stream",
     "text": [
      "Train size: 360\n",
      "Test size: 90\n"
     ]
    }
   ],
   "source": [
    "X = infarkty_scaled[['age', 'cholesterol', 'sex']]\n",
    "y = infarkty_scaled['death']\n",
    "\n",
    "# Rozdelime na trenovacie a testovacie data - nahodne\n",
    "X_train, X_test, y_train, y_test = train_test_split(X, y, test_size=0.2, random_state=3)\n",
    "print('Train size: {}'.format(len(X_train)))\n",
    "print('Test size: {}'.format(len(X_test)))"
   ]
  },
  {
   "cell_type": "code",
   "execution_count": 418,
   "metadata": {},
   "outputs": [
    {
     "name": "stdout",
     "output_type": "stream",
     "text": [
      "Vyznam parametrov: \n",
      "['intercept', 'age', 'cholesterol', 'sex']\n",
      "[-0.0602563   0.01410633  0.50464459 -0.14390955]\n",
      "...........................................\n",
      "ODDS ratios:\n",
      "[0.94152319 1.0142063  1.65639671 0.86596607]\n"
     ]
    },
    {
     "data": {
      "image/png": "[encoded data removed]",
      "text/plain": [
       "<Figure size 432x288 with 2 Axes>"
      ]
     },
     "metadata": {},
     "output_type": "display_data"
    }
   ],
   "source": [
    "model = LogisticRegression(fit_intercept=True,\n",
    "                           C=0.01,\n",
    "                           penalty=\"l2\",\n",
    "                           class_weight=\"balanced\")\n",
    "\n",
    "model.fit(X_train, y_train)\n",
    "\n",
    "coeffs = np.array(model.intercept_[0])\n",
    "coeffs = np.append(coeffs, model.coef_[0])\n",
    "\n",
    "print(\"Vyznam parametrov: \")\n",
    "print(['intercept', 'age', 'cholesterol', 'sex'])\n",
    "print(coeffs)\n",
    "print(\"...........................................\")\n",
    "print(\"ODDS ratios:\")\n",
    "print(np.exp(coeffs))\n",
    "\n",
    "print_summary(model, X_test, y_test)"
   ]
  },
  {
   "cell_type": "code",
   "execution_count": null,
   "metadata": {},
   "outputs": [],
   "source": []
  }
 ],
 "metadata": {
  "kernelspec": {
   "display_name": "Python 3",
   "language": "python",
   "name": "python3"
  },
  "language_info": {
   "codemirror_mode": {
    "name": "ipython",
    "version": 3
   },
   "file_extension": ".py",
   "mimetype": "text/x-python",
   "name": "python",
   "nbconvert_exporter": "python",
   "pygments_lexer": "ipython3",
   "version": "3.6.5"
  }
 },
 "nbformat": 4,
 "nbformat_minor": 2
}
